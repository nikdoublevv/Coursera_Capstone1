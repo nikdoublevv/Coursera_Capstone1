{
    "cells": [
        {
            "cell_type": "markdown",
            "metadata": {
                "collapsed": true
            },
            "source": "# A Guide for Living in Shanghai"
        },
        {
            "cell_type": "markdown",
            "metadata": {},
            "source": "### Part 1: Introduction and Background"
        },
        {
            "cell_type": "markdown",
            "metadata": {},
            "source": "**Shanghai (\u4e0a\u6d77)**, the most populous city in China as well as one of the most properous and modern cities in the world, is a splendid gem carved by generations of Chinese people and city planners with their remarkable wisdom. Over the past hundred years, Shanghai has thrown off shackles of pain and indignity imposed by feudalists, warlords and imperialists, and has gradually transitioned itself into the economic and financial hub in the world. Known as **\"Pearl of the Orient\" **(\u4e1c\u65b9\u4e4b\u73e0)** or **\"Paris of the East\"(\u4e1c\u65b9\u5df4\u9ece)**, Shanghai at present days has attracted millions of adventurous people from the globe to study, tour, and live in this city.\nNevertheless, for people\u2014especially \u201cWesterners\u201d\u2014who are strangers to both **Shanghai** and mainland China at large, starting a new life on this mysterious piece of land is difficult. For them, questions like which neighborhood to live in, basic statistics of each neighborhood, where prominent venues are located at, to name a few, remain unanswered.\nThere is a growing body of articles and blogposts on the Internet providing rudimentary city-wise information to the audience who is unfamiliar with the nuts and bolts of Shanghai. Nevertheless, they are mainly qualitative and subjective. In essence, they are not quantitatively rigorous in terms of methodology. Therefore, they run the risk of being unreliable, at least from a data analyst's perspective. This guide, namely A Guide to Living in Shanghai, is deemed to answer the questions above and to provide an alternative, big data and machine learning-based solution to the potential trailblazers who are about to embark on a new chapter of life in Shanghai."
        },
        {
            "cell_type": "code",
            "execution_count": null,
            "metadata": {},
            "outputs": [],
            "source": ""
        }
    ],
    "metadata": {
        "kernelspec": {
            "display_name": "Python 3.6",
            "language": "python",
            "name": "python3"
        },
        "language_info": {
            "codemirror_mode": {
                "name": "ipython",
                "version": 3
            },
            "file_extension": ".py",
            "mimetype": "text/x-python",
            "name": "python",
            "nbconvert_exporter": "python",
            "pygments_lexer": "ipython3",
            "version": "3.6.9"
        }
    },
    "nbformat": 4,
    "nbformat_minor": 1
}